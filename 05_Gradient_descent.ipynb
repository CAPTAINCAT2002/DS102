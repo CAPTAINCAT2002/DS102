{
  "nbformat": 4,
  "nbformat_minor": 0,
  "metadata": {
    "colab": {
      "name": "05 - Gradient descent.ipynb",
      "provenance": [],
      "collapsed_sections": [],
      "toc_visible": true
    },
    "kernelspec": {
      "name": "python3",
      "display_name": "Python 3"
    },
    "language_info": {
      "name": "python"
    }
  },
  "cells": [
    {
      "cell_type": "code",
      "metadata": {
        "id": "wvtMSR-B5Cg8"
      },
      "source": [
        "import numpy as np\n",
        "\n",
        "X = 2 * np.random.rand(100, 1)\n",
        "y = 4 + 3 * X + np.random.randn(100, 1)\n",
        "\n",
        "X_b = np.c_[np.ones((100, 1)), X]  # add x0 = 1 to each instance\n",
        "\n",
        "X_new = np.array([[0], [2]])\n",
        "X_new_b = np.c_[np.ones((2, 1)), X_new]  # add x0 = 1 to each instance"
      ],
      "execution_count": null,
      "outputs": []
    },
    {
      "cell_type": "code",
      "metadata": {
        "colab": {
          "base_uri": "https://localhost:8080/"
        },
        "id": "r7HBExPMauPC",
        "outputId": "af4bfeb5-c2ba-4a2e-ba99-6c38c958e63c"
      },
      "source": [
        "X_new_b"
      ],
      "execution_count": null,
      "outputs": [
        {
          "output_type": "execute_result",
          "data": {
            "text/plain": [
              "array([[1., 0.],\n",
              "       [1., 2.]])"
            ]
          },
          "metadata": {},
          "execution_count": 11
        }
      ]
    },
    {
      "cell_type": "code",
      "metadata": {
        "colab": {
          "base_uri": "https://localhost:8080/"
        },
        "id": "avEw5USRELAD",
        "outputId": "7c1b637b-b907-4e47-e3de-fa3a42ff6202"
      },
      "source": [
        "# Normal function\n",
        "theta_best = np.linalg.inv(X_b.T.dot(X_b)).dot(X_b.T).dot(y)\n",
        "theta_best"
      ],
      "execution_count": null,
      "outputs": [
        {
          "output_type": "execute_result",
          "data": {
            "text/plain": [
              "array([[3.99014354],\n",
              "       [3.01824416]])"
            ]
          },
          "metadata": {},
          "execution_count": 12
        }
      ]
    },
    {
      "cell_type": "markdown",
      "metadata": {
        "id": "jccV014r4K8M"
      },
      "source": [
        "# Batch Gradient descent "
      ]
    },
    {
      "cell_type": "code",
      "metadata": {
        "id": "8Slsff0HprTd"
      },
      "source": [
        "import numpy as np\n",
        "\n",
        "alpha = 0.1 # learning rate \n",
        "n_iterations = 1000 \n",
        "N = 100\n",
        "\n",
        "theta = np.random.randn(2,1) # random initialization"
      ],
      "execution_count": null,
      "outputs": []
    },
    {
      "cell_type": "code",
      "metadata": {
        "colab": {
          "base_uri": "https://localhost:8080/"
        },
        "id": "IyTOEgIIDZYr",
        "outputId": "5e15b80e-d8cc-444f-b8ce-eebe3b313983"
      },
      "source": [
        "theta"
      ],
      "execution_count": null,
      "outputs": [
        {
          "output_type": "execute_result",
          "data": {
            "text/plain": [
              "array([[ 0.06305785],\n",
              "       [-0.61396751]])"
            ]
          },
          "metadata": {},
          "execution_count": 14
        }
      ]
    },
    {
      "cell_type": "code",
      "metadata": {
        "id": "kR-MD9tfDgZZ"
      },
      "source": [
        "for iteration in range(n_iterations):\n",
        "    gradients = 1/N * X_b.T.dot(X_b.dot(theta) - y) \n",
        "    theta = theta - alpha * gradients"
      ],
      "execution_count": null,
      "outputs": []
    },
    {
      "cell_type": "code",
      "metadata": {
        "colab": {
          "base_uri": "https://localhost:8080/"
        },
        "id": "A_CDNuB-5Kjd",
        "outputId": "e8846e4b-fa64-4d77-b5d4-bce7c3013003"
      },
      "source": [
        "theta"
      ],
      "execution_count": null,
      "outputs": [
        {
          "output_type": "execute_result",
          "data": {
            "text/plain": [
              "array([[3.99014353],\n",
              "       [3.01824417]])"
            ]
          },
          "metadata": {},
          "execution_count": 16
        }
      ]
    },
    {
      "cell_type": "code",
      "metadata": {
        "id": "DK-ujnIgb-yd"
      },
      "source": [
        "import matplotlib.pyplot as plt"
      ],
      "execution_count": null,
      "outputs": []
    },
    {
      "cell_type": "code",
      "metadata": {
        "colab": {
          "base_uri": "https://localhost:8080/",
          "height": 282
        },
        "id": "UiRwkOH1b9sU",
        "outputId": "a9595b18-ff86-4960-ea3d-cbb86336e16d"
      },
      "source": [
        "plt.plot(X, y, \"b.\")"
      ],
      "execution_count": null,
      "outputs": [
        {
          "output_type": "execute_result",
          "data": {
            "text/plain": [
              "[<matplotlib.lines.Line2D at 0x7f67e26ca850>]"
            ]
          },
          "metadata": {},
          "execution_count": 20
        },
        {
          "output_type": "display_data",
          "data": {
            "image/png": "[encoded data removed]",
            "text/plain": [
              "<Figure size 432x288 with 1 Axes>"
            ]
          },
          "metadata": {
            "needs_background": "light"
          }
        }
      ]
    },
    {
      "cell_type": "code",
      "metadata": {
        "id": "flBBG4hL5Yko"
      },
      "source": [
        "theta_path_bgd = []\n",
        "\n",
        "def plot_gradient_descent(theta, eta, theta_path=None):\n",
        "    m = len(X_b)\n",
        "    plt.plot(X, y, \"b.\")\n",
        "    n_iterations = 1000\n",
        "    for iteration in range(n_iterations):\n",
        "        if iteration < 10:\n",
        "            y_predict = X_new_b.dot(theta)\n",
        "            style = \"b-\" if iteration > 0 else \"r--\"\n",
        "            plt.plot(X_new, y_predict, style)\n",
        "        gradients = 1/m * X_b.T.dot(X_b.dot(theta) - y)\n",
        "        theta = theta - eta * gradients\n",
        "        if theta_path is not None:\n",
        "            theta_path.append(theta)\n",
        "    plt.xlabel(\"$x_1$\", fontsize=18)\n",
        "    plt.axis([0, 2, 0, 15])\n",
        "    plt.title(r\"$\\alpha = {}$\".format(eta), fontsize=16)"
      ],
      "execution_count": null,
      "outputs": []
    },
    {
      "cell_type": "code",
      "metadata": {
        "colab": {
          "base_uri": "https://localhost:8080/",
          "height": 306
        },
        "id": "ztxx8bFC5dqO",
        "outputId": "834f7ac1-03b5-4284-80be-aab3ca001118"
      },
      "source": [
        "import numpy as np\n",
        "import matplotlib.pyplot as plt\n",
        "\n",
        "np.random.seed(42)\n",
        "theta = np.random.randn(2,1)  # random initialization\n",
        "\n",
        "plt.figure(figsize=(10,4))\n",
        "plt.subplot(131); plot_gradient_descent(theta, eta=0.02)\n",
        "plt.ylabel(\"y\", rotation=0, fontsize=18)\n",
        "plt.subplot(132); plot_gradient_descent(theta, eta=0.1, theta_path=theta_path_bgd)\n",
        "plt.subplot(133); plot_gradient_descent(theta, eta=0.8)\n",
        "\n",
        "plt.show()"
      ],
      "execution_count": null,
      "outputs": [
        {
          "output_type": "display_data",
          "data": {
            "image/png": "[encoded data removed]",
            "text/plain": [
              "<Figure size 720x288 with 3 Axes>"
            ]
          },
          "metadata": {
            "needs_background": "light"
          }
        }
      ]
    },
    {
      "cell_type": "markdown",
      "metadata": {
        "id": "SAZrOF8-grGn"
      },
      "source": [
        "# Stochastic Gradient Descent "
      ]
    },
    {
      "cell_type": "code",
      "metadata": {
        "id": "EoDXP6MnuyBG"
      },
      "source": [
        "n_epochs = 50\n",
        "t0, t1 = 5, 50      # learning schedule hyperparameters\n",
        "alpha = 0.1         # learning rate \n",
        "N = 100\n",
        "\n",
        "def learning_schedule(t): \n",
        "    return t0/(t+t1)\n",
        "\n",
        "theta = np.random.randn(2,1) # random initialization\n",
        "for epoch in range(n_epochs): \n",
        "    for i in range(N):\n",
        "        random_index = np.random.randint(N)\n",
        "        xi = X_b[random_index:random_index+1]\n",
        "        yi = y[random_index:random_index+1]\n",
        "        gradients = xi.T.dot(xi.dot(theta) - yi)\n",
        "        alpha = learning_schedule(epoch * N + i)\n",
        "        theta = theta - alpha * gradients"
      ],
      "execution_count": null,
      "outputs": []
    },
    {
      "cell_type": "code",
      "metadata": {
        "colab": {
          "base_uri": "https://localhost:8080/"
        },
        "id": "1wlGX3jHvbER",
        "outputId": "2977e956-882c-413a-8d27-c1fe1dba55ce"
      },
      "source": [
        "theta"
      ],
      "execution_count": null,
      "outputs": [
        {
          "output_type": "execute_result",
          "data": {
            "text/plain": [
              "array([[4.03738889],\n",
              "       [2.98711217]])"
            ]
          },
          "metadata": {},
          "execution_count": 29
        }
      ]
    },
    {
      "cell_type": "code",
      "metadata": {
        "colab": {
          "base_uri": "https://localhost:8080/"
        },
        "id": "nSF8x6FGvsUb",
        "outputId": "9e2a134a-2daf-497d-dc47-58e75dc60224"
      },
      "source": [
        "from sklearn.linear_model import SGDRegressor #Stochastic Gradient Descent:\n",
        "sgd_reg = SGDRegressor(max_iter=50, penalty=None, eta0=0.1) \n",
        "\n",
        "sgd_reg.fit(X, y.ravel())"
      ],
      "execution_count": null,
      "outputs": [
        {
          "output_type": "execute_result",
          "data": {
            "text/plain": [
              "SGDRegressor(alpha=0.0001, average=False, early_stopping=False, epsilon=0.1,\n",
              "             eta0=0.1, fit_intercept=True, l1_ratio=0.15,\n",
              "             learning_rate='invscaling', loss='squared_loss', max_iter=50,\n",
              "             n_iter_no_change=5, penalty=None, power_t=0.25, random_state=None,\n",
              "             shuffle=True, tol=0.001, validation_fraction=0.1, verbose=0,\n",
              "             warm_start=False)"
            ]
          },
          "metadata": {},
          "execution_count": 30
        }
      ]
    },
    {
      "cell_type": "code",
      "metadata": {
        "colab": {
          "base_uri": "https://localhost:8080/"
        },
        "id": "XuYyK3I51Czb",
        "outputId": "b19b0e77-7e04-4499-e9f9-3d1fa77cf8f7"
      },
      "source": [
        "sgd_reg.intercept_, sgd_reg.coef_"
      ],
      "execution_count": null,
      "outputs": [
        {
          "output_type": "execute_result",
          "data": {
            "text/plain": [
              "(array([3.92738383]), array([2.99875792]))"
            ]
          },
          "metadata": {},
          "execution_count": 31
        }
      ]
    },
    {
      "cell_type": "code",
      "metadata": {
        "colab": {
          "base_uri": "https://localhost:8080/"
        },
        "id": "WCwyG6ZzdyV-",
        "outputId": "6c129e35-021b-4223-9e7f-df1ed4a1ac32"
      },
      "source": [
        "X_b[random_index:random_index+1]"
      ],
      "execution_count": null,
      "outputs": [
        {
          "output_type": "execute_result",
          "data": {
            "text/plain": [
              "array([[1.        , 0.01554812]])"
            ]
          },
          "metadata": {},
          "execution_count": 34
        }
      ]
    },
    {
      "cell_type": "code",
      "metadata": {
        "colab": {
          "base_uri": "https://localhost:8080/",
          "height": 287
        },
        "id": "95xwuQe05Npq",
        "outputId": "625ea271-bbe3-423c-cd28-c42c7c27e7da"
      },
      "source": [
        "theta_path_sgd = []\n",
        "m = len(X_b)\n",
        "np.random.seed(42)\n",
        "\n",
        "n_epochs = 50\n",
        "t0, t1 = 5, 50  # learning schedule hyperparameters\n",
        "\n",
        "def learning_schedule(t):\n",
        "    return t0 / (t + t1)\n",
        "\n",
        "theta = np.random.randn(2,1)  # random initialization\n",
        "\n",
        "for epoch in range(n_epochs):\n",
        "    for i in range(m):\n",
        "        if epoch == 0 and i < 10:                    # not shown in the book\n",
        "            y_predict = X_new_b.dot(theta)           # not shown\n",
        "            style = \"b-\" if i > 0 else \"r--\"         # not shown\n",
        "            plt.plot(X_new, y_predict, style)        # not shown\n",
        "        random_index = np.random.randint(m)\n",
        "        xi = X_b[random_index:random_index+1]\n",
        "        yi = y[random_index:random_index+1]\n",
        "        gradients = xi.T.dot(xi.dot(theta) - yi)\n",
        "        eta = learning_schedule(epoch * m + i)\n",
        "        theta = theta - eta * gradients\n",
        "        theta_path_sgd.append(theta)                 # not shown\n",
        "\n",
        "plt.plot(X, y, \"b.\")                                 # not shown\n",
        "plt.xlabel(\"$x_1$\", fontsize=18)                     # not shown\n",
        "plt.ylabel(\"$y$\", rotation=0, fontsize=18)           # not shown\n",
        "plt.axis([0, 2, 0, 15])                              # not shown                               \n",
        "plt.show()                              "
      ],
      "execution_count": null,
      "outputs": [
        {
          "output_type": "display_data",
          "data": {
            "image/png": "[encoded data removed]",
            "text/plain": [
              "<Figure size 432x288 with 1 Axes>"
            ]
          },
          "metadata": {
            "needs_background": "light"
          }
        }
      ]
    },
    {
      "cell_type": "markdown",
      "metadata": {
        "id": "J-nlEOkueF6Z"
      },
      "source": [
        ""
      ]
    },
    {
      "cell_type": "markdown",
      "metadata": {
        "id": "ar2TPRzc9izM"
      },
      "source": [
        "# Mini-batch Gradient Descent"
      ]
    },
    {
      "cell_type": "code",
      "metadata": {
        "colab": {
          "base_uri": "https://localhost:8080/"
        },
        "id": "On4E4Acsetrr",
        "outputId": "ad2f1b45-59b8-4dcd-8faa-bf5f1fb8fbbe"
      },
      "source": [
        "X_b_shuffled"
      ],
      "execution_count": null,
      "outputs": [
        {
          "output_type": "execute_result",
          "data": {
            "text/plain": [
              "array([[1.        , 0.95267378],\n",
              "       [1.        , 1.66837291],\n",
              "       [1.        , 1.99462329],\n",
              "       [1.        , 1.24967144],\n",
              "       [1.        , 0.1196805 ],\n",
              "       [1.        , 0.46761129],\n",
              "       [1.        , 1.86260322],\n",
              "       [1.        , 1.39724173],\n",
              "       [1.        , 0.09479094],\n",
              "       [1.        , 1.00623014],\n",
              "       [1.        , 1.33475921],\n",
              "       [1.        , 0.5529471 ],\n",
              "       [1.        , 0.45076926],\n",
              "       [1.        , 0.2711034 ],\n",
              "       [1.        , 1.10629514],\n",
              "       [1.        , 1.68285362],\n",
              "       [1.        , 0.88921383],\n",
              "       [1.        , 0.95408565],\n",
              "       [1.        , 1.72843264],\n",
              "       [1.        , 0.72890257],\n",
              "       [1.        , 0.94655856],\n",
              "       [1.        , 0.73007289],\n",
              "       [1.        , 0.99158273],\n",
              "       [1.        , 0.10433541],\n",
              "       [1.        , 1.44834436],\n",
              "       [1.        , 1.19380875],\n",
              "       [1.        , 1.58497037],\n",
              "       [1.        , 1.34478115],\n",
              "       [1.        , 0.70808044],\n",
              "       [1.        , 0.46719487],\n",
              "       [1.        , 0.1262746 ],\n",
              "       [1.        , 1.0797744 ],\n",
              "       [1.        , 0.96627008],\n",
              "       [1.        , 0.31062688],\n",
              "       [1.        , 1.37434708],\n",
              "       [1.        , 1.52992354],\n",
              "       [1.        , 1.56852836],\n",
              "       [1.        , 0.0466955 ],\n",
              "       [1.        , 0.49469352],\n",
              "       [1.        , 1.45010143],\n",
              "       [1.        , 0.1442452 ],\n",
              "       [1.        , 0.6949755 ],\n",
              "       [1.        , 0.01554812],\n",
              "       [1.        , 0.56732233],\n",
              "       [1.        , 1.97911761],\n",
              "       [1.        , 0.47466551],\n",
              "       [1.        , 1.76149168],\n",
              "       [1.        , 0.72539249],\n",
              "       [1.        , 0.12781606],\n",
              "       [1.        , 1.13591549],\n",
              "       [1.        , 1.01965386],\n",
              "       [1.        , 1.07432535],\n",
              "       [1.        , 0.94540751],\n",
              "       [1.        , 1.31021314],\n",
              "       [1.        , 1.92752255],\n",
              "       [1.        , 0.05334021],\n",
              "       [1.        , 0.94593557],\n",
              "       [1.        , 1.22252884],\n",
              "       [1.        , 0.1067953 ],\n",
              "       [1.        , 1.9113838 ],\n",
              "       [1.        , 0.16369641],\n",
              "       [1.        , 1.52785017],\n",
              "       [1.        , 0.9806361 ],\n",
              "       [1.        , 0.17343961],\n",
              "       [1.        , 0.56064284],\n",
              "       [1.        , 0.13280555],\n",
              "       [1.        , 1.69946724],\n",
              "       [1.        , 0.10164347],\n",
              "       [1.        , 0.25579661],\n",
              "       [1.        , 0.14240143],\n",
              "       [1.        , 0.37365353],\n",
              "       [1.        , 0.69174895],\n",
              "       [1.        , 1.48236047],\n",
              "       [1.        , 1.53013384],\n",
              "       [1.        , 0.12830592],\n",
              "       [1.        , 1.7577811 ],\n",
              "       [1.        , 0.05451348],\n",
              "       [1.        , 0.44741431],\n",
              "       [1.        , 0.67073666],\n",
              "       [1.        , 1.75976217],\n",
              "       [1.        , 0.57807859],\n",
              "       [1.        , 1.58076643],\n",
              "       [1.        , 0.64333082],\n",
              "       [1.        , 1.19607137],\n",
              "       [1.        , 0.77588406],\n",
              "       [1.        , 1.61708407],\n",
              "       [1.        , 1.78332479],\n",
              "       [1.        , 0.73278243],\n",
              "       [1.        , 0.10613037],\n",
              "       [1.        , 0.38680382],\n",
              "       [1.        , 0.17932996],\n",
              "       [1.        , 1.96704232],\n",
              "       [1.        , 0.80965923],\n",
              "       [1.        , 1.03716194],\n",
              "       [1.        , 0.56153506],\n",
              "       [1.        , 1.15691244],\n",
              "       [1.        , 0.46934185],\n",
              "       [1.        , 1.02442493],\n",
              "       [1.        , 1.13308352],\n",
              "       [1.        , 0.69844681]])"
            ]
          },
          "metadata": {},
          "execution_count": 41
        }
      ]
    },
    {
      "cell_type": "code",
      "metadata": {
        "colab": {
          "base_uri": "https://localhost:8080/"
        },
        "id": "xyhrOaO8e7W7",
        "outputId": "9cc4ce22-f21a-4439-fb4e-69a90abfe317"
      },
      "source": [
        "X_b_shuffled[i:i+minibatch_size]"
      ],
      "execution_count": null,
      "outputs": [
        {
          "output_type": "execute_result",
          "data": {
            "text/plain": [
              "array([[1.        , 0.69844681]])"
            ]
          },
          "metadata": {},
          "execution_count": 42
        }
      ]
    },
    {
      "cell_type": "code",
      "metadata": {
        "id": "qKHyvLGZ9qe4"
      },
      "source": [
        "n_epochs = 50\n",
        "t0, t1 = 5, 50      # learning schedule hyperparameters\n",
        "alpha = 0.1         # learning rate \n",
        "N = 100\n",
        "minibatch_size = 20\n",
        "\n",
        "def learning_schedule(t): \n",
        "    return t0/(t+t1)\n",
        "\n",
        "theta = np.random.randn(2,1) # random initialization\n",
        "for epoch in range(n_epochs): \n",
        "    shuffled_indices = np.random.permutation(N)\n",
        "    X_b_shuffled = X_b[shuffled_indices]\n",
        "    y_shuffled = y[shuffled_indices]\n",
        "    for i in range(N):\n",
        "        random_index = np.random.randint(N)\n",
        "        xi = X_b_shuffled[i:i+minibatch_size]\n",
        "        yi = y_shuffled[i:i+minibatch_size]\n",
        "        gradients = xi.T.dot(xi.dot(theta) - yi)\n",
        "        alpha = learning_schedule(epoch * N + i)\n",
        "        theta = theta - alpha * gradients"
      ],
      "execution_count": null,
      "outputs": []
    },
    {
      "cell_type": "code",
      "metadata": {
        "colab": {
          "base_uri": "https://localhost:8080/"
        },
        "id": "v30HDQp-_qjn",
        "outputId": "814bab0d-102d-4ed3-e31c-d9d6f62d6d0f"
      },
      "source": [
        "theta"
      ],
      "execution_count": null,
      "outputs": [
        {
          "output_type": "execute_result",
          "data": {
            "text/plain": [
              "array([[3.93332517],\n",
              "       [3.00205236]])"
            ]
          },
          "metadata": {},
          "execution_count": 43
        }
      ]
    },
    {
      "cell_type": "code",
      "metadata": {
        "id": "ZzBDkPlp_26Z"
      },
      "source": [
        "theta_path_mgd = []\n",
        "\n",
        "n_iterations = 50\n",
        "minibatch_size = 20\n",
        "\n",
        "np.random.seed(42)\n",
        "theta = np.random.randn(2,1)  # random initialization\n",
        "\n",
        "t0, t1 = 200, 1000\n",
        "def learning_schedule(t):\n",
        "    return t0 / (t + t1)\n",
        "\n",
        "t = 0\n",
        "for epoch in range(n_iterations):\n",
        "    shuffled_indices = np.random.permutation(m)\n",
        "    X_b_shuffled = X_b[shuffled_indices]\n",
        "    y_shuffled = y[shuffled_indices]\n",
        "    for i in range(0, m, minibatch_size):\n",
        "        t += 1\n",
        "        xi = X_b_shuffled[i:i+minibatch_size]\n",
        "        yi = y_shuffled[i:i+minibatch_size]\n",
        "        gradients = 2/minibatch_size * xi.T.dot(xi.dot(theta) - yi)\n",
        "        eta = learning_schedule(t)\n",
        "        theta = theta - eta * gradients\n",
        "        theta_path_mgd.append(theta)"
      ],
      "execution_count": null,
      "outputs": []
    },
    {
      "cell_type": "code",
      "metadata": {
        "colab": {
          "base_uri": "https://localhost:8080/",
          "height": 292
        },
        "id": "OAL7_mheA99N",
        "outputId": "038d0d25-2188-459d-fa6f-c15ca18fa254"
      },
      "source": [
        "theta_path_bgd = np.array(theta_path_bgd)\n",
        "theta_path_sgd = np.array(theta_path_sgd)\n",
        "theta_path_mgd = np.array(theta_path_mgd)\n",
        "\n",
        "plt.figure(figsize=(7,4))\n",
        "plt.plot(theta_path_sgd[:, 0], theta_path_sgd[:, 1], \"r-s\", linewidth=1, label=\"Stochastic\")\n",
        "plt.plot(theta_path_mgd[:, 0], theta_path_mgd[:, 1], \"g-+\", linewidth=2, label=\"Mini-batch\")\n",
        "plt.plot(theta_path_bgd[:, 0], theta_path_bgd[:, 1], \"b-o\", linewidth=3, label=\"Batch\")\n",
        "plt.legend(loc=\"upper left\", fontsize=16)\n",
        "plt.xlabel(r\"$\\theta_0$\", fontsize=20)\n",
        "plt.ylabel(r\"$\\theta_1$   \", fontsize=20, rotation=0)\n",
        "plt.axis([2.5, 4.5, 2.3, 3.9])\n",
        "plt.show()"
      ],
      "execution_count": null,
      "outputs": [
        {
          "output_type": "display_data",
          "data": {
            "image/png": "[encoded data removed]",
            "text/plain": [
              "<Figure size 504x288 with 1 Axes>"
            ]
          },
          "metadata": {
            "needs_background": "light"
          }
        }
      ]
    },
    {
      "cell_type": "code",
      "metadata": {
        "id": "iWPomb49FluU"
      },
      "source": [
        ""
      ],
      "execution_count": null,
      "outputs": []
    }
  ]
}